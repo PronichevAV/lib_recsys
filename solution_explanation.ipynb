{
 "cells": [
  {
   "cell_type": "markdown",
   "metadata": {
    "pycharm": {
     "name": "#%% md\n"
    }
   },
   "source": [
    "# Разработка рекомендательного алгоритма для читателей библиотеки"
   ]
  },
  {
   "cell_type": "markdown",
   "metadata": {
    "pycharm": {
     "name": "#%% md\n"
    }
   },
   "source": [
    "## Описание задачи\n",
    "\n",
    "В 2022 году ряд ведущих российских издательств, книжных ресурсов и библиотек отмечают рост спроса на электронные и бумажные книги. Фонды региональных и федеральных библиотек насчитывают миллионы экземпляров книг. Российская государственная библиотека (РГБ) — крупнейшая библиотека в нашей стране, предоставляющая современные цифровые сервисы, такие как электронная библиотека РГБ и Национальная электронная библиотека, благодаря которым читатели могут искать и просматривать книги, не выходя из дома.\n",
    "\n",
    "Сейчас в фондах РГБ хранится более 47 миллионов книг и различных артефактов. Такой объем документов имеет огромную культурную, историческую и научную ценность, однако затрудняет процесс каталогизации. Поиск конкретных изданий и тематических подборок занимает время. Кроме непосредственного доступа до содержимого электронной книги, возникает потребность выполнять поиск по семантике книги и формировать ассоциативные связи между различными документами для того, чтобы в дальнейшем предлагать читателям более релевантный результат поиска, а также персонифицированные рекомендации.\n",
    "\n",
    "Читатели библиотеки — это и любители художественных произведений, и специалисты, интересующиеся отраслевой литературой, ученые и соискатели, работающие в научных проектах. Разнообразие целевой аудитории усложняет разработку рекомендательной системы из-за высокой семантической сложности изданий.\n",
    "\n",
    "В РГБ активно ведется процесс оцифровки документов, что делает возможным внедрение адаптивной системы поиска. В рамках чемпионата участникам предлагается разработать рекомендательный алгоритм для читателей библиотеки, который позволит осуществлять семантический поиск литературы и рекомендовать книги читателю на основе его персональных предпочтений. Такие подборки позволят посетителям библиотеки открыть для себя новые жанры, авторов и произведения, которые ранее им были неизвестны."
   ]
  },
  {
   "cell_type": "markdown",
   "metadata": {
    "pycharm": {
     "name": "#%% md\n"
    }
   },
   "source": [
    "### Установка и импорт библиотек"
   ]
  },
  {
   "cell_type": "code",
   "execution_count": 1,
   "metadata": {
    "colab": {
     "background_save": true
    },
    "id": "uyLmuZJxPH8B",
    "pycharm": {
     "name": "#%%\n"
    }
   },
   "outputs": [],
   "source": [
    "# !pip install rectools"
   ]
  },
  {
   "cell_type": "code",
   "execution_count": 2,
   "metadata": {
    "id": "bwx19BNqQmrh",
    "pycharm": {
     "name": "#%%\n"
    }
   },
   "outputs": [
    {
     "name": "stderr",
     "output_type": "stream",
     "text": [
      "C:\\Users\\PronichevAV\\AppData\\Roaming\\Python\\Python38\\site-packages\\lightfm\\_lightfm_fast.py:9: UserWarning: LightFM was compiled without OpenMP support. Only a single thread will be used.\n",
      "  warnings.warn(\n"
     ]
    }
   ],
   "source": [
    "import pandas as pd\n",
    "from implicit.nearest_neighbours import BM25Recommender\n",
    "from rectools.dataset import Dataset\n",
    "from rectools.models import ImplicitItemKNNWrapperModel, PopularModel"
   ]
  },
  {
   "cell_type": "markdown",
   "metadata": {
    "pycharm": {
     "name": "#%% md\n"
    }
   },
   "source": [
    "### Загрузка данных"
   ]
  },
  {
   "cell_type": "code",
   "execution_count": 3,
   "metadata": {
    "id": "TD0BEEFuPNoA",
    "pycharm": {
     "name": "#%%\n"
    }
   },
   "outputs": [],
   "source": [
    "users = pd.read_csv('../data/users.csv', sep=';', index_col=None, dtype={'age': str, 'chb': str, 'chit_type': str, 'gender': str})\n",
    "items = pd.read_csv('../data/items.csv', sep=';', index_col=None, dtype={'author': str, 'bbk': str, 'izd': str, 'sys_numb': str, 'title': str, 'year_izd': str})\n",
    "train_transactions = pd.read_csv('../data/train_transactions_extended.csv', sep=';', index_col=None, dtype={'chb': str, 'date_1': str, 'is_printed': str, 'is_real': str, 'source': str, 'sys_numb': str, 'type': str})\n",
    "sample_submission = pd.read_csv('../data/sample_solution.csv', sep=';', index_col=None)"
   ]
  },
  {
   "cell_type": "markdown",
   "metadata": {
    "pycharm": {
     "name": "#%% md\n"
    }
   },
   "source": [
    "### Предобработка данных"
   ]
  },
  {
   "cell_type": "code",
   "execution_count": 4,
   "metadata": {
    "pycharm": {
     "name": "#%%\n"
    }
   },
   "outputs": [],
   "source": [
    "def get_age_bins(age):\n",
    "    \"\"\"Функция, распределяющая пользователей по возрастным категориям\"\"\"\n",
    "    try:\n",
    "        age = int(age)\n",
    "        if 0 <= age <= 17:\n",
    "            return 'age_0_17'\n",
    "        elif 18 <= age <= 24: \n",
    "            return 'age_18_24'\n",
    "        elif 25 <= age <= 34: \n",
    "            return 'age_25_34'\n",
    "        elif 35 <= age <= 44: \n",
    "            return 'age_35_44'\n",
    "        elif 45 <= age <= 54: \n",
    "            return 'age_45_64'\n",
    "        elif age >= 65: \n",
    "            return 'age_65_inf'\n",
    "    except:\n",
    "        return None"
   ]
  },
  {
   "cell_type": "markdown",
   "metadata": {
    "pycharm": {
     "name": "#%% md\n"
    }
   },
   "source": [
    "Предобработка датасета взаимодействий"
   ]
  },
  {
   "cell_type": "code",
   "execution_count": 5,
   "metadata": {
    "id": "0tIRryDzRjJ7",
    "pycharm": {
     "name": "#%%\n"
    }
   },
   "outputs": [
    {
     "data": {
      "text/html": [
       "<div>\n",
       "<style scoped>\n",
       "    .dataframe tbody tr th:only-of-type {\n",
       "        vertical-align: middle;\n",
       "    }\n",
       "\n",
       "    .dataframe tbody tr th {\n",
       "        vertical-align: top;\n",
       "    }\n",
       "\n",
       "    .dataframe thead th {\n",
       "        text-align: right;\n",
       "    }\n",
       "</style>\n",
       "<table border=\"1\" class=\"dataframe\">\n",
       "  <thead>\n",
       "    <tr style=\"text-align: right;\">\n",
       "      <th></th>\n",
       "      <th>user_id</th>\n",
       "      <th>item_id</th>\n",
       "      <th>datetime</th>\n",
       "      <th>is_real</th>\n",
       "      <th>type</th>\n",
       "      <th>source</th>\n",
       "      <th>is_printed</th>\n",
       "      <th>weight</th>\n",
       "    </tr>\n",
       "  </thead>\n",
       "  <tbody>\n",
       "    <tr>\n",
       "      <th>0</th>\n",
       "      <td>100000641403</td>\n",
       "      <td>RSL01004206702</td>\n",
       "      <td>2021-02-21</td>\n",
       "      <td>yes</td>\n",
       "      <td>скачивание</td>\n",
       "      <td>dlib.rsl.ru</td>\n",
       "      <td>False</td>\n",
       "      <td>10</td>\n",
       "    </tr>\n",
       "    <tr>\n",
       "      <th>1</th>\n",
       "      <td>100000641403</td>\n",
       "      <td>RSL01000769304</td>\n",
       "      <td>2021-03-23</td>\n",
       "      <td>yes</td>\n",
       "      <td>скачивание</td>\n",
       "      <td>dlib.rsl.ru</td>\n",
       "      <td>False</td>\n",
       "      <td>10</td>\n",
       "    </tr>\n",
       "    <tr>\n",
       "      <th>2</th>\n",
       "      <td>100000641403</td>\n",
       "      <td>RSL01004211574</td>\n",
       "      <td>2021-02-21</td>\n",
       "      <td>yes</td>\n",
       "      <td>скачивание</td>\n",
       "      <td>dlib.rsl.ru</td>\n",
       "      <td>False</td>\n",
       "      <td>10</td>\n",
       "    </tr>\n",
       "    <tr>\n",
       "      <th>3</th>\n",
       "      <td>100000644359</td>\n",
       "      <td>RSL01009800093</td>\n",
       "      <td>2021-03-16</td>\n",
       "      <td>yes</td>\n",
       "      <td>книговыдача</td>\n",
       "      <td>единый просмоторщик</td>\n",
       "      <td>False</td>\n",
       "      <td>10</td>\n",
       "    </tr>\n",
       "    <tr>\n",
       "      <th>4</th>\n",
       "      <td>100000644359</td>\n",
       "      <td>RSL01003557352</td>\n",
       "      <td>2021-03-10</td>\n",
       "      <td>yes</td>\n",
       "      <td>книговыдача</td>\n",
       "      <td>единый просмоторщик</td>\n",
       "      <td>False</td>\n",
       "      <td>10</td>\n",
       "    </tr>\n",
       "    <tr>\n",
       "      <th>...</th>\n",
       "      <td>...</td>\n",
       "      <td>...</td>\n",
       "      <td>...</td>\n",
       "      <td>...</td>\n",
       "      <td>...</td>\n",
       "      <td>...</td>\n",
       "      <td>...</td>\n",
       "      <td>...</td>\n",
       "    </tr>\n",
       "    <tr>\n",
       "      <th>259561</th>\n",
       "      <td>300001173062</td>\n",
       "      <td>RSL01002975109</td>\n",
       "      <td>2022-03-10</td>\n",
       "      <td>yes</td>\n",
       "      <td>скачка</td>\n",
       "      <td>единый просмоторщик</td>\n",
       "      <td>False</td>\n",
       "      <td>10</td>\n",
       "    </tr>\n",
       "    <tr>\n",
       "      <th>259562</th>\n",
       "      <td>300001173062</td>\n",
       "      <td>RSL01002975109</td>\n",
       "      <td>2022-03-10</td>\n",
       "      <td>yes</td>\n",
       "      <td>книговыдача</td>\n",
       "      <td>единый просмоторщик</td>\n",
       "      <td>False</td>\n",
       "      <td>10</td>\n",
       "    </tr>\n",
       "    <tr>\n",
       "      <th>259563</th>\n",
       "      <td>400001035059</td>\n",
       "      <td>RSL01002298169</td>\n",
       "      <td>2021-07-01</td>\n",
       "      <td>yes</td>\n",
       "      <td>книговыдача</td>\n",
       "      <td>2DL.Viewer</td>\n",
       "      <td>False</td>\n",
       "      <td>10</td>\n",
       "    </tr>\n",
       "    <tr>\n",
       "      <th>259564</th>\n",
       "      <td>400001035059</td>\n",
       "      <td>RSL01002632325</td>\n",
       "      <td>2021-07-01</td>\n",
       "      <td>yes</td>\n",
       "      <td>книговыдача</td>\n",
       "      <td>2DL.Viewer</td>\n",
       "      <td>False</td>\n",
       "      <td>10</td>\n",
       "    </tr>\n",
       "    <tr>\n",
       "      <th>259565</th>\n",
       "      <td>400001035059</td>\n",
       "      <td>RSL01003421323</td>\n",
       "      <td>2021-07-01</td>\n",
       "      <td>yes</td>\n",
       "      <td>книговыдача</td>\n",
       "      <td>2DL.Viewer</td>\n",
       "      <td>False</td>\n",
       "      <td>10</td>\n",
       "    </tr>\n",
       "  </tbody>\n",
       "</table>\n",
       "<p>259566 rows × 8 columns</p>\n",
       "</div>"
      ],
      "text/plain": [
       "             user_id         item_id   datetime is_real         type  \\\n",
       "0       100000641403  RSL01004206702 2021-02-21     yes   скачивание   \n",
       "1       100000641403  RSL01000769304 2021-03-23     yes   скачивание   \n",
       "2       100000641403  RSL01004211574 2021-02-21     yes   скачивание   \n",
       "3       100000644359  RSL01009800093 2021-03-16     yes  книговыдача   \n",
       "4       100000644359  RSL01003557352 2021-03-10     yes  книговыдача   \n",
       "...              ...             ...        ...     ...          ...   \n",
       "259561  300001173062  RSL01002975109 2022-03-10     yes       скачка   \n",
       "259562  300001173062  RSL01002975109 2022-03-10     yes  книговыдача   \n",
       "259563  400001035059  RSL01002298169 2021-07-01     yes  книговыдача   \n",
       "259564  400001035059  RSL01002632325 2021-07-01     yes  книговыдача   \n",
       "259565  400001035059  RSL01003421323 2021-07-01     yes  книговыдача   \n",
       "\n",
       "                     source is_printed  weight  \n",
       "0               dlib.rsl.ru      False      10  \n",
       "1               dlib.rsl.ru      False      10  \n",
       "2               dlib.rsl.ru      False      10  \n",
       "3       единый просмоторщик      False      10  \n",
       "4       единый просмоторщик      False      10  \n",
       "...                     ...        ...     ...  \n",
       "259561  единый просмоторщик      False      10  \n",
       "259562  единый просмоторщик      False      10  \n",
       "259563           2DL.Viewer      False      10  \n",
       "259564           2DL.Viewer      False      10  \n",
       "259565           2DL.Viewer      False      10  \n",
       "\n",
       "[259566 rows x 8 columns]"
      ]
     },
     "execution_count": 5,
     "metadata": {},
     "output_type": "execute_result"
    }
   ],
   "source": [
    "train_transactions['date_1'] = pd.to_datetime(train_transactions['date_1'], yearfirst=True)                       # преобразование в datetime\n",
    "train_transactions.rename(columns={'chb': 'user_id', 'sys_numb': 'item_id', 'date_1': 'datetime'}, inplace=True)  # переименование столбцов\n",
    "train_transactions['weight'] = 10                                                                                 # присвоение веса взаимодействиям\n",
    "train_transactions"
   ]
  },
  {
   "cell_type": "markdown",
   "metadata": {
    "pycharm": {
     "name": "#%% md\n"
    }
   },
   "source": [
    "Предобработка датасета пользователей"
   ]
  },
  {
   "cell_type": "code",
   "execution_count": 6,
   "metadata": {
    "id": "dYU99gYFdDZt",
    "pycharm": {
     "name": "#%%\n"
    }
   },
   "outputs": [],
   "source": [
    "users.rename(columns={'chb':'user_id'}, inplace=True)                                                           # переименование столбцов\n",
    "users['age'] = users['age'].apply(get_age_bins)                                                                 # распределение по возрастным категориям\n",
    "users = users[['user_id', 'age', 'gender']].copy()\n",
    "users = users.loc[users[\"user_id\"].isin(train_transactions[\"user_id\"])].copy()                                  # удаление пользователей без взаимодействий\n",
    "users['age'] = users['age'].fillna('unknown_age')                                                               # заполнение пропусков в возрасте \n",
    "users['gender'] = users['gender'].apply(lambda x: 'unknown_gender' if x in ['не указан', 'отсутствует'] else x) # заполнение пропусков в признаке \"пол\""
   ]
  },
  {
   "cell_type": "code",
   "execution_count": 7,
   "metadata": {
    "colab": {
     "base_uri": "https://localhost:8080/",
     "height": 206
    },
    "id": "c_H5GiWbdHuB",
    "outputId": "76f74eb1-cb4e-4be4-be8c-a39036ca0a94",
    "pycharm": {
     "name": "#%%\n"
    }
   },
   "outputs": [
    {
     "data": {
      "text/html": [
       "<div>\n",
       "<style scoped>\n",
       "    .dataframe tbody tr th:only-of-type {\n",
       "        vertical-align: middle;\n",
       "    }\n",
       "\n",
       "    .dataframe tbody tr th {\n",
       "        vertical-align: top;\n",
       "    }\n",
       "\n",
       "    .dataframe thead th {\n",
       "        text-align: right;\n",
       "    }\n",
       "</style>\n",
       "<table border=\"1\" class=\"dataframe\">\n",
       "  <thead>\n",
       "    <tr style=\"text-align: right;\">\n",
       "      <th></th>\n",
       "      <th>id</th>\n",
       "      <th>value</th>\n",
       "      <th>feature</th>\n",
       "    </tr>\n",
       "  </thead>\n",
       "  <tbody>\n",
       "    <tr>\n",
       "      <th>0</th>\n",
       "      <td>300001020830</td>\n",
       "      <td>female</td>\n",
       "      <td>gender</td>\n",
       "    </tr>\n",
       "    <tr>\n",
       "      <th>1</th>\n",
       "      <td>300001113642</td>\n",
       "      <td>female</td>\n",
       "      <td>gender</td>\n",
       "    </tr>\n",
       "    <tr>\n",
       "      <th>2</th>\n",
       "      <td>300001148466</td>\n",
       "      <td>female</td>\n",
       "      <td>gender</td>\n",
       "    </tr>\n",
       "    <tr>\n",
       "      <th>3</th>\n",
       "      <td>300001117011</td>\n",
       "      <td>female</td>\n",
       "      <td>gender</td>\n",
       "    </tr>\n",
       "    <tr>\n",
       "      <th>4</th>\n",
       "      <td>200001038094</td>\n",
       "      <td>female</td>\n",
       "      <td>gender</td>\n",
       "    </tr>\n",
       "  </tbody>\n",
       "</table>\n",
       "</div>"
      ],
      "text/plain": [
       "             id   value feature\n",
       "0  300001020830  female  gender\n",
       "1  300001113642  female  gender\n",
       "2  300001148466  female  gender\n",
       "3  300001117011  female  gender\n",
       "4  200001038094  female  gender"
      ]
     },
     "execution_count": 7,
     "metadata": {},
     "output_type": "execute_result"
    }
   ],
   "source": [
    "# Преобразование признаков пользователей в формат, совместимый с библиотекой rectools\n",
    "user_features_frames = []\n",
    "for feature in [\"gender\", \"age\", \"chit_type\"]:\n",
    "    feature_frame = users.reindex(columns=[\"user_id\", feature])\n",
    "    feature_frame.columns = [\"id\", \"value\"]\n",
    "    feature_frame[\"feature\"] = feature\n",
    "    user_features_frames.append(feature_frame)\n",
    "user_features = pd.concat(user_features_frames)\n",
    "user_features = user_features.loc[~user_features['value'].isin(['не указан', 'отсутствует', 'нет данных']), :]\n",
    "user_features.reset_index(drop=True, inplace=True)\n",
    "user_features.head()"
   ]
  },
  {
   "cell_type": "markdown",
   "metadata": {
    "pycharm": {
     "name": "#%% md\n"
    }
   },
   "source": [
    "Предобработка датасета элементов"
   ]
  },
  {
   "cell_type": "code",
   "execution_count": 8,
   "metadata": {
    "pycharm": {
     "name": "#%%\n"
    }
   },
   "outputs": [],
   "source": [
    "items.rename(columns={'sys_numb':'item_id'}, inplace=True)                                                 # переименование столбцов\n",
    "items = items.loc[items[\"item_id\"].isin(train_transactions[\"item_id\"]), ['item_id', 'title']].copy()       # удаление элементов без взаимодействий"
   ]
  },
  {
   "cell_type": "markdown",
   "metadata": {
    "pycharm": {
     "name": "#%% md\n"
    }
   },
   "source": [
    "Создание датасета в формате, совместимом с библиотекой rectools"
   ]
  },
  {
   "cell_type": "code",
   "execution_count": 9,
   "metadata": {
    "id": "LHqsywWaRpdF",
    "pycharm": {
     "name": "#%%\n"
    }
   },
   "outputs": [],
   "source": [
    "dataset = Dataset.construct(interactions_df=train_transactions,\n",
    "                            user_features_df=user_features,\n",
    "                            cat_user_features=['gender', 'age']\n",
    "                            )"
   ]
  },
  {
   "cell_type": "markdown",
   "metadata": {
    "pycharm": {
     "name": "#%% md\n"
    }
   },
   "source": [
    "### Этап моделирования "
   ]
  },
  {
   "cell_type": "markdown",
   "metadata": {
    "pycharm": {
     "name": "#%% md\n"
    }
   },
   "source": [
    "Модель включает в себя два этапа предсказаний - для теплых (у которых были взаимодействия) и холодных пользователей:\n",
    "\n",
    "- На первом этапе применяется алгоритм ранжирования BM25. \n",
    "\n",
    "- На втором этапе - для холодных пользователей рекомендации создаются на основе популярных элементов."
   ]
  },
  {
   "cell_type": "markdown",
   "metadata": {
    "pycharm": {
     "name": "#%% md\n"
    }
   },
   "source": [
    "Обучение и получение рекомендаций моделью первого этапа"
   ]
  },
  {
   "cell_type": "code",
   "execution_count": 10,
   "metadata": {
    "colab": {
     "base_uri": "https://localhost:8080/"
    },
    "id": "oZ8JodDFS3iN",
    "outputId": "150166ae-8594-45d3-fb5f-93f37b47f33b",
    "pycharm": {
     "name": "#%%\n"
    }
   },
   "outputs": [
    {
     "name": "stdout",
     "output_type": "stream",
     "text": [
      "Wall time: 1.58 s\n"
     ]
    }
   ],
   "source": [
    "%%time\n",
    "model = ImplicitItemKNNWrapperModel(model=BM25Recommender(K=100, K1=0.05, B=0.1, num_threads=-1))\n",
    "model.fit(dataset)\n",
    "warm_recos = model.recommend(\n",
    "    users=train_transactions['user_id'].unique(),\n",
    "    dataset=dataset,\n",
    "    k=20,\n",
    "    filter_viewed=True,\n",
    ")"
   ]
  },
  {
   "cell_type": "markdown",
   "metadata": {
    "pycharm": {
     "name": "#%% md\n"
    }
   },
   "source": [
    "Получение списка холодных пользователей"
   ]
  },
  {
   "cell_type": "code",
   "execution_count": 11,
   "metadata": {
    "id": "2hN-he20TYPu",
    "pycharm": {
     "name": "#%%\n"
    }
   },
   "outputs": [],
   "source": [
    "cold_users = list(warm_recos.groupby(by='user_id').sum().query('rank < 210').index) \\\n",
    "              + list(set(dataset.user_id_map.external_ids) - set(warm_recos['user_id']))"
   ]
  },
  {
   "cell_type": "code",
   "execution_count": 12,
   "metadata": {
    "colab": {
     "base_uri": "https://localhost:8080/"
    },
    "id": "EnvPVUHHY607",
    "outputId": "2ef8e446-bdce-407d-8137-d50f696d89fc",
    "pycharm": {
     "name": "#%%\n"
    }
   },
   "outputs": [
    {
     "data": {
      "text/plain": [
       "5990"
      ]
     },
     "execution_count": 12,
     "metadata": {},
     "output_type": "execute_result"
    }
   ],
   "source": [
    "len(cold_users)"
   ]
  },
  {
   "cell_type": "markdown",
   "metadata": {
    "pycharm": {
     "name": "#%% md\n"
    }
   },
   "source": [
    "Обучение и получение рекомендаций моделью второго этапа"
   ]
  },
  {
   "cell_type": "code",
   "execution_count": 13,
   "metadata": {
    "pycharm": {
     "name": "#%%\n"
    }
   },
   "outputs": [
    {
     "name": "stdout",
     "output_type": "stream",
     "text": [
      "Wall time: 170 ms\n"
     ]
    }
   ],
   "source": [
    "%%time\n",
    "model = PopularModel()\n",
    "model.fit(dataset)\n",
    "cold_recos = model.recommend(\n",
    "    users=cold_users,\n",
    "    dataset=dataset,\n",
    "    k=20,\n",
    "    filter_viewed=True,\n",
    ")"
   ]
  },
  {
   "cell_type": "markdown",
   "metadata": {
    "pycharm": {
     "name": "#%% md\n"
    }
   },
   "source": [
    "### Подготовка результата"
   ]
  },
  {
   "cell_type": "code",
   "execution_count": 14,
   "metadata": {
    "pycharm": {
     "name": "#%%\n"
    }
   },
   "outputs": [],
   "source": [
    "full_recos = pd.concat([warm_recos[~warm_recos['user_id'].isin(cold_users)], cold_recos])"
   ]
  },
  {
   "cell_type": "code",
   "execution_count": 15,
   "metadata": {
    "pycharm": {
     "name": "#%%\n"
    }
   },
   "outputs": [],
   "source": [
    "submission = full_recos.loc[:, ['user_id','item_id']]\n",
    "submission.rename(columns={'user_id': 'chb', 'item_id': 'sys_numb'}, inplace=True)"
   ]
  },
  {
   "cell_type": "code",
   "execution_count": 16,
   "metadata": {
    "id": "IxDKOQtpFcNa",
    "pycharm": {
     "name": "#%%\n"
    }
   },
   "outputs": [],
   "source": [
    "submission.to_csv(\"../submissions/submission_from_nb.csv\", index=False, sep=';')"
   ]
  },
  {
   "cell_type": "code",
   "execution_count": 17,
   "metadata": {
    "id": "_AKOw-UIdAwM",
    "pycharm": {
     "name": "#%%\n"
    }
   },
   "outputs": [
    {
     "name": "stdout",
     "output_type": "stream",
     "text": [
      "<class 'pandas.core.frame.DataFrame'>\n",
      "Int64Index: 335060 entries, 0 to 119799\n",
      "Data columns (total 2 columns):\n",
      " #   Column    Non-Null Count   Dtype \n",
      "---  ------    --------------   ----- \n",
      " 0   chb       335060 non-null  object\n",
      " 1   sys_numb  335060 non-null  object\n",
      "dtypes: object(2)\n",
      "memory usage: 7.7+ MB\n"
     ]
    }
   ],
   "source": [
    "submission.info()"
   ]
  },
  {
   "cell_type": "code",
   "execution_count": null,
   "metadata": {
    "pycharm": {
     "name": "#%%\n"
    }
   },
   "outputs": [],
   "source": []
  }
 ],
 "metadata": {
  "colab": {
   "collapsed_sections": [],
   "name": "library_recsys.ipynb",
   "provenance": []
  },
  "kernelspec": {
   "display_name": "Python 3.8.13 ('lib_recsys')",
   "language": "python",
   "name": "python3"
  },
  "language_info": {
   "codemirror_mode": {
    "name": "ipython",
    "version": 3
   },
   "file_extension": ".py",
   "mimetype": "text/x-python",
   "name": "python",
   "nbconvert_exporter": "python",
   "pygments_lexer": "ipython3",
   "version": "3.8.13"
  },
  "vscode": {
   "interpreter": {
    "hash": "64873e0cbbd578a37d9ed1ec4bff55a937f6c1dba9ee825d128d766d2c2f5bcb"
   }
  }
 },
 "nbformat": 4,
 "nbformat_minor": 0
}